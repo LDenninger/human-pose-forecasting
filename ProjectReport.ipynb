{
 "cells": [
  {
   "cell_type": "markdown",
   "metadata": {},
   "source": [
    "# Vision Lab SS2023 Final Report\n",
    "\n",
    "#### Authors: Luis Denninger, Leon Herbrik"
   ]
  },
  {
   "cell_type": "markdown",
   "metadata": {},
   "source": [
    "## Project Overview\n",
    "\n",
    "In this section we will give a detailed overview over the code base and how it can be used to easily run different experiments.\n",
    "    \n",
    "        .\n",
    "        ├── ...\n",
    "        ├── configurations                  # Configurations files\n",
    "        ├── data                            # Dataset\n",
    "        ├── experiments                     # Experiment directory\n",
    "        ├── src                             # Python source files\n",
    "        │   ├── data_utils                  # Functions and modules for data processing\n",
    "        │   ├── evaluation                  # Functions and modules for the evaluation\n",
    "        │   ├── models                      # Torch models used within the project\n",
    "        │   ├── tests                       # Tests to demonstrate the correct behaviour\n",
    "        │   ├── utils                       # Utility functions\n",
    "        │   ├── visualization               # Visualization functions\n",
    "        │   └── training_baseline.py        # Trainer for the baseline model\n",
    "        ├── env.sh                          # Source file for the experiment environment\n",
    "        ├── keep_exp.sh                     # script to add .gitignore files into empty folders in the experiment directory\n",
    "        ├── run.py                          # General run file\n",
    "        ├── train.py                        # Run a training\n",
    "        ├── test.py                         # Test specific parts of the project\n",
    "        ├── evaluate.py                     # Evaluate a trained model from the experiment directory\n",
    "        ├── visualize.py                    # Produce visualizations using a trained model\n",
    "        └── ..."
   ]
  },
  {
   "cell_type": "markdown",
   "metadata": {},
   "source": [
    "### Installation\n",
    "\n",
    "The complete project is implemented using the PyTorch library and complementary libraries using the PyTorch framework. We used Conda for our python environment using Python 3.11. <br/>\n",
    "To install the PyTorch library please follow: https://pytorch.org/. Here is an example command:\n",
    "```\n",
    "    conda install pytorch torchvision torchaudio pytorch-cuda=11.8 -c pytorch -c nvidia\n",
    "```\n",
    "Next, we can install the other libraries using pip:\n",
    "```\n",
    "    pip install matplotlib plotly tqdm ipdb numpy \n",
    "```"
   ]
  },
  {
   "cell_type": "markdown",
   "metadata": {},
   "source": [
    "### Experiment Structure\n",
    "\n",
    "The experiments are structured into experiment directories with multiple runs. <br/>\n",
    "Here we have an example directory:\n",
    "```\n",
    "            .\n",
    "        ├── ...\n",
    "        ├── experiments                     # Experiment directory\n",
    "        │   ├── example_experiment          # Example experiment\n",
    "        │   │   ├── example_run             # Example run\n",
    "        │   │   │   ├── checkpoints         # Directory holding the checkpoints made during training\n",
    "        │   │   │   ├── logs                # Contains all logs written during training and evaluation\n",
    "        │   │   │   ├── visualizations      # Contains all visualization made for evaluation\n",
    "        │   │   │   ├── config.json         # Contains all configuration parameters for the model and training\n",
    "        │   │   └── ...\n",
    "        │   └── ...    \n",
    "        └── ...       \n",
    "```\n",
    "To manage different experiments and runs we use a small-scale managing tool. To enable all functions we need to first source the bash script `env.sh`.\n",
    "#### Environment Management\n",
    "To manage our experiments we use the functions provided in this [file](src/utils/management.py)\n",
    "\n",
    "**Set an Experiment**: `setexp [run_name]` <br/>\n",
    "**Set a Run**: `setrun [run_name]` <br/>\n",
    "**Check Setup**: `setup` <br/>\n",
    "\n"
   ]
  },
  {
   "cell_type": "markdown",
   "metadata": {},
   "source": []
  },
  {
   "cell_type": "markdown",
   "metadata": {},
   "source": []
  }
 ],
 "metadata": {
  "language_info": {
   "name": "python"
  },
  "orig_nbformat": 4
 },
 "nbformat": 4,
 "nbformat_minor": 2
}
